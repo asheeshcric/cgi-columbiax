{
 "cells": [
  {
   "cell_type": "markdown",
   "metadata": {},
   "source": [
    "**Dashpot** (Damper)\n",
    "    - Dissipating Spring Force\n",
    "    - Damping or loss of energy over time\n",
    "    - e.g. : air drag, mechanical damping, etc\n",
    "    - Applies when there is a relative velocity between the particles in a spring system\n",
    "    - ![Dissipation](https://i.ibb.co/2j72q9L/Screenshot-from-2019-03-08-16-55-11.png)"
   ]
  }
 ],
 "metadata": {
  "kernelspec": {
   "display_name": "asheesh",
   "language": "python",
   "name": "asheesh"
  },
  "language_info": {
   "codemirror_mode": {
    "name": "ipython",
    "version": 3
   },
   "file_extension": ".py",
   "mimetype": "text/x-python",
   "name": "python",
   "nbconvert_exporter": "python",
   "pygments_lexer": "ipython3",
   "version": "3.6.7"
  }
 },
 "nbformat": 4,
 "nbformat_minor": 2
}
