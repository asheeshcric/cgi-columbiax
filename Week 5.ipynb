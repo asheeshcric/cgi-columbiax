{
 "cells": [
  {
   "cell_type": "markdown",
   "metadata": {},
   "source": [
    "# Week 5"
   ]
  },
  {
   "cell_type": "markdown",
   "metadata": {},
   "source": [
    "## 5.1 Continuous Time Collision Detection"
   ]
  },
  {
   "cell_type": "markdown",
   "metadata": {},
   "source": [
    "- In instantaneous time detection, when the time step is large enough, it can miss the tunneling effect between two colliding bodies.\n",
    "    - So, we ask: Does there exist a time instant when A and B overlap?\n",
    "    - When are A and B approaching?\n",
    "    \n",
    "- **f(t)** < 0 defines when two balls overlap\n",
    "- **g(t)** < 0 define when two balls are approaching\n",
    "\n",
    "- **The interval when f(t) and g(t) both are negative is the interval where they collide**\n",
    "\n",
    "![](https://i.ibb.co/RNQ3VCS/Screenshot-from-2019-04-09-16-24-49.png)"
   ]
  },
  {
   "cell_type": "code",
   "execution_count": null,
   "metadata": {},
   "outputs": [],
   "source": []
  },
  {
   "cell_type": "markdown",
   "metadata": {},
   "source": [
    "## 5.3 Overlapping Polynomial"
   ]
  },
  {
   "cell_type": "markdown",
   "metadata": {},
   "source": [
    "- Now, we need to determine the time intervals when both the polynomials f(t) and g(t) are either +ve or -ve\n",
    "\n",
    "- We find the roots of both f(t) and g(t), i.e. points where they touch the origin (and see their sign on those points)\n",
    "- Sorting the timestamps and finding the overlap will enable us to see the overlap of the interval for both the polynomials\n",
    "\n",
    "![](https://i.ibb.co/SRBZ2MP/Screenshot-from-2019-04-09-16-40-24.png)"
   ]
  },
  {
   "cell_type": "markdown",
   "metadata": {},
   "source": []
  },
  {
   "cell_type": "markdown",
   "metadata": {},
   "source": [
    "## 5.4 Collision Response Pipeline"
   ]
  },
  {
   "cell_type": "markdown",
   "metadata": {},
   "source": [
    "- When we are using a time integrator (either explicit or implicit euler) to determine the next position and velocity of a body, we need to determine the time interval when the bodies may suffer from the tunneling effect\n",
    "- In such case, we first determine the ending position and velocity **qe** and **ve** from the starting position and velocity **qs** and **vs**\n",
    "- Then we determine the overlapping interval\n",
    "- We then calculate the impulse that needs to be applied at the start of the overlapping interval\n",
    "    - After the impulse gets applied the final position and velocity of the body get changed\n",
    "        - We take care of this by providing a feedback to the integrator about the application of the impulse to the body\n",
    "        \n",
    "![](https://i.ibb.co/3scp2fW/Screenshot-from-2019-04-09-17-10-00.png)"
   ]
  },
  {
   "cell_type": "markdown",
   "metadata": {},
   "source": []
  },
  {
   "cell_type": "markdown",
   "metadata": {},
   "source": [
    "## 5.5 Adding Impulses to Time Integration Loop"
   ]
  },
  {
   "cell_type": "markdown",
   "metadata": {},
   "source": [
    "- When we calculate the impulse as mentioned above, we feedback that to the time integrator at the starting timestep i.e at **ts**\n",
    "    - We do this because in a complex system, if we account the impulse only when the overlapping time interval starts, we might encounter unwanted collisions of the bodies (although it might seem realistic)\n",
    "\n",
    "\n",
    "![](https://i.ibb.co/vqwCVjT/Screenshot-from-2019-04-09-17-15-13.png)"
   ]
  },
  {
   "cell_type": "markdown",
   "metadata": {},
   "source": []
  },
  {
   "cell_type": "markdown",
   "metadata": {},
   "source": [
    "## 5.6 Iterating over Multiple Simultaneous Collisions"
   ]
  },
  {
   "cell_type": "markdown",
   "metadata": {},
   "source": [
    "### Steps\n",
    "\n",
    "1. We integrate the dynamics of the balls, i.e. we first determine the end positions and velocities\n",
    "    - Tentative End of State (EoS) positions\n",
    "2. We then apply the **Continuous Time Collision Detection** method to find the overlap/tunneling time intervals. **(collision times)**\n",
    "3. We now need to fix/prevent the collision\n",
    "4. Apply collision impulses at the start of timestep (and not on instantaneous collision time)\n",
    "    - Now repeat the first two steps again\n",
    "    - When the timestep does not detect any collision, we are done\n",
    "\n",
    "- **NOTE:** Using \"Time of Event\" approach compels us to look for all the possible collisions in a scene, and its complications grow exponentially as the number of colliding bodies increases. So, the above steps are choosen, where the impulses are applied at the start of a timestep\n"
   ]
  },
  {
   "cell_type": "markdown",
   "metadata": {},
   "source": [
    "## 5.8 Parallel vs Sequential Impulses"
   ]
  },
  {
   "cell_type": "markdown",
   "metadata": {},
   "source": [
    "- When two bodies simultaneously collide to another body, we can have two approaches to deal with it\n",
    "\n",
    "    - Parallel **(Jacobi)**:\n",
    "        - Using continuous time collision detection, we can first determine the impulses on both the collisions\n",
    "        - We can then aggregate the impulse vectors on all the bodies parallelly (independent of each other)\n",
    "        \n",
    "    - Sequential **(Gauss-Seidel)**:\n",
    "        - We first detect collision between first two bodies, apply the impulse and then detect the collision with another one with new velocity of the third body\n",
    "\n",
    "![](https://i.ibb.co/NFNccbW/Screenshot-from-2019-04-11-16-31-45.png)\n",
    "\n",
    "\n",
    "\n",
    "\n",
    "- Comparison\n",
    "    - A parallel approach can preserve the symmetry of the moving bodies, while sequential may break it a little\n",
    "    - If we use the sequential approach, we have a sequence of Energy Conservation computation which eventually preserve the energy, but this might not be the case with parallel approach (as it might not conserve energy at the end)"
   ]
  }
 ],
 "metadata": {
  "kernelspec": {
   "display_name": "asheesh",
   "language": "python",
   "name": "asheesh"
  },
  "language_info": {
   "codemirror_mode": {
    "name": "ipython",
    "version": 3
   },
   "file_extension": ".py",
   "mimetype": "text/x-python",
   "name": "python",
   "nbconvert_exporter": "python",
   "pygments_lexer": "ipython3",
   "version": "3.6.7"
  }
 },
 "nbformat": 4,
 "nbformat_minor": 2
}
