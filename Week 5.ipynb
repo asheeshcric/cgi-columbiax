{
 "cells": [
  {
   "cell_type": "markdown",
   "metadata": {},
   "source": [
    "# Week 5"
   ]
  },
  {
   "cell_type": "markdown",
   "metadata": {},
   "source": [
    "## 5.1 Continuous Time Collision Detection"
   ]
  },
  {
   "cell_type": "markdown",
   "metadata": {},
   "source": [
    "- In instantaneous time detection, when the time step is large enough, it can miss the tunneling effect between two colliding bodies.\n",
    "    - So, we ask: Does there exist a time instant when A and B overlap?\n",
    "    - When are A and B approaching?\n",
    "    \n",
    "- **f(t)** < 0 defines when two balls overlap\n",
    "- **g(t)** < 0 define when two balls are approaching\n",
    "\n",
    "- **The interval when f(t) and g(t) both are negative is the interval where they collide**\n",
    "\n",
    "![](https://i.ibb.co/RNQ3VCS/Screenshot-from-2019-04-09-16-24-49.png)"
   ]
  },
  {
   "cell_type": "code",
   "execution_count": null,
   "metadata": {},
   "outputs": [],
   "source": []
  },
  {
   "cell_type": "markdown",
   "metadata": {},
   "source": [
    "## 5.3 Overlapping Polynomial"
   ]
  },
  {
   "cell_type": "markdown",
   "metadata": {},
   "source": [
    "- Now, we need to determine the time intervals when both the polynomials f(t) and g(t) are either +ve or -ve\n",
    "\n",
    "- We find the roots of both f(t) and g(t), i.e. points where they touch the origin (and see their sign on those points)\n",
    "- Sorting the timestamps and finding the overlap will enable us to see the overlap of the interval for both the polynomials\n",
    "\n",
    "![](https://i.ibb.co/SRBZ2MP/Screenshot-from-2019-04-09-16-40-24.png)"
   ]
  }
 ],
 "metadata": {
  "kernelspec": {
   "display_name": "asheesh",
   "language": "python",
   "name": "asheesh"
  },
  "language_info": {
   "codemirror_mode": {
    "name": "ipython",
    "version": 3
   },
   "file_extension": ".py",
   "mimetype": "text/x-python",
   "name": "python",
   "nbconvert_exporter": "python",
   "pygments_lexer": "ipython3",
   "version": "3.6.7"
  }
 },
 "nbformat": 4,
 "nbformat_minor": 2
}
