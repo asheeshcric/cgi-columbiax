{
 "cells": [
  {
   "cell_type": "markdown",
   "metadata": {},
   "source": [
    "**Dashpot** (Damper)\n",
    "    - Dissipating Spring Force\n",
    "    - Damping or loss of energy over time\n",
    "    - e.g. : air drag, mechanical damping, etc\n",
    "    - Applies when there is a relative velocity between the particles in a spring system\n",
    "\n",
    "![](https://i.ibb.co/2j72q9L/Screenshot-from-2019-03-08-16-55-11.png)"
   ]
  },
  {
   "cell_type": "code",
   "execution_count": null,
   "metadata": {},
   "outputs": [],
   "source": []
  },
  {
   "cell_type": "markdown",
   "metadata": {},
   "source": [
    "**Explicit vs Implicit Euler**\n",
    "\n",
    "**Explicit**\n",
    "    - The next position completely depends on the parameters of the current timestep\n",
    "    - Can be problematic if the time step is taken large\n",
    "        - The system can blow up as the current state may change drastically at a large timestep\n",
    "        \n",
    "**Implicit**\n",
    "    - It depends on the parameters that are evaluated at the end of the timestep instead of the beginning\n",
    "    - x = f(x)\n",
    "        - Unknown is the function of its own (as it depends on its own value)\n",
    "    - **Newton's Method** (A quadratic convergence method)\n",
    "    \n",
    "\n",
    "**Newton's method**\n",
    "- For linear approximation, we use Taylor's function\n",
    "- Disadv:\n",
    "    - Can never converge if we start with a random guess that is too far from the original root\n",
    "\n",
    "![](https://i.ibb.co/0D1DjC0/Screenshot-from-2019-03-11-17-44-52.png)\n",
    "![](https://i.ibb.co/5K4m7xX/Screenshot-from-2019-03-11-17-53-02.png)"
   ]
  },
  {
   "cell_type": "markdown",
   "metadata": {},
   "source": []
  },
  {
   "cell_type": "markdown",
   "metadata": {},
   "source": [
    "## Implicit Euler\n",
    "\n",
    "- Can handle changes for large timesteps and maintain the system to be stable\n",
    "- Costlier than explicit euler at each timestep, but is often found to be productive\n",
    "\n",
    "- Position, velocity and state when applying Implicit Euler:\n",
    "\n",
    "![](https://i.ibb.co/qrSZSKX/Screenshot-from-2019-03-26-16-40-53.png)"
   ]
  },
  {
   "cell_type": "markdown",
   "metadata": {},
   "source": [
    "- Implicit euler and Explicit euler are time-reversed version of each other\n",
    "- You can retrieve one using the other by following a time-reversed version of the former\n",
    "\n",
    "### Integrators\n",
    "- Some integrators are the time-reversed version of itself\n",
    "- Example:\n",
    "    ![](https://i.ibb.co/b3KZLSm/Screenshot-from-2019-04-04-17-15-43.png)"
   ]
  },
  {
   "cell_type": "markdown",
   "metadata": {},
   "source": [
    "### Jacobian Matrix\n",
    "- A matrix of all first-order partial derivatives of a vector-valued function\n",
    "- A position (q) matrix, A force (F) matrix, and a Jacobian (J) matrix"
   ]
  },
  {
   "cell_type": "code",
   "execution_count": null,
   "metadata": {},
   "outputs": [],
   "source": []
  },
  {
   "cell_type": "markdown",
   "metadata": {},
   "source": [
    "# Week 4"
   ]
  },
  {
   "cell_type": "markdown",
   "metadata": {},
   "source": [
    "### 1. Detecting collisions between two balls\n",
    "\n",
    "- Detecting a collision\n",
    "    - Instantaneous approach\n",
    "    - Continuous duration approach\n",
    "\n",
    "\n",
    "![](https://i.ibb.co/3dv73Gd/Screenshot-from-2019-04-04-17-43-31.png)\n",
    "    \n",
    "### 2. Detecting collision between a ball and a wall\n",
    "\n",
    "\n",
    "![](https://i.ibb.co/WFyH21W/Screenshot-from-2019-04-04-17-49-07.png)\n",
    "![](https://i.ibb.co/6NxDGbq/Screenshot-from-2019-04-04-17-51-42.png)\n",
    "\n",
    "\n",
    "### 3. Detecting collision between a ball and an edge\n",
    "\n",
    "- For detecting collision between a ball and an edge, there are two conditions according to the value of alpha\n",
    "- When alpha = 0 to 1, the ball lies within the vertical range of the edge\n",
    "- When aplha < 0, we assume that the alpha = 0 and when aplha > 1 , we assume alpha = 1\n",
    "    - Since the position of X(alpha) gets changed for aplha not in rangfe (0, 1), the formula for detecting the collision remains the same\n",
    "    - **|| X1 - Xalpha || < r1 + r** (Overlapping condition)\n",
    "    - X1 ==> position of the center of the ball\n",
    "    - Xalpha ==> position of alpha on the line\n",
    "    - r1 ==> radius of the ball\n",
    "    - r ==> radius of the edge convex\n",
    "\n",
    "- To determine the direction of the movement of the ball:\n",
    "    - (X1 - Xalpha) . (V1 - V2) > 0   **(moving away or receding)**\n",
    "\n",
    "![](https://i.ibb.co/ZH8Lrbp/Screenshot-from-2019-04-04-18-01-36.png)\n",
    "\n",
    "\n",
    "![](https://i.ibb.co/2qhBKpb/Screenshot-from-2019-04-08-12-38-31.png)"
   ]
  },
  {
   "cell_type": "code",
   "execution_count": null,
   "metadata": {},
   "outputs": [],
   "source": []
  },
  {
   "cell_type": "markdown",
   "metadata": {},
   "source": [
    "### Instantaneous Collision Response"
   ]
  },
  {
   "cell_type": "markdown",
   "metadata": {},
   "source": [
    "- When two balls approach eachother, there needs to be some formula to calculate the behavior of the collision so that we can react appropriately to the collision instead of the balls passing eachother\n",
    "    - We use conservation of momentum and conservation of energy to determine the value of **alpha** and hence the **Impulse** of the collision\n",
    "    - The impulse of the collision only acts on the direction of the velocities and it does not affect the perpendicular components of the velocities of the balls\n",
    "    \n",
    "    \n",
    "![](https://i.ibb.co/rGQ7nJb/Screenshot-from-2019-04-08-12-53-55.png)\n",
    "\n",
    "![](https://i.ibb.co/VHNrZ9d/Screenshot-from-2019-04-08-12-54-09.png)"
   ]
  },
  {
   "cell_type": "code",
   "execution_count": null,
   "metadata": {},
   "outputs": [],
   "source": []
  },
  {
   "cell_type": "markdown",
   "metadata": {},
   "source": [
    "### Coefficient of Restituition"
   ]
  },
  {
   "cell_type": "markdown",
   "metadata": {},
   "source": [
    "- When an object is dropped from a height, it rebounces to back to a certain fraction of the  original height\n",
    "- This fraction is the **coefficient of restitution**\n",
    "- COR is between [0, 1]\n",
    "- Defines how bouncy an object is\n",
    "\n",
    "- When COR = 0:\n",
    "    - Maximally dissipative collision (All kinetic energy is lost)\n",
    "    - The impulse in this case is **I/2**\n",
    "        - This means that **I/2** is the least impulse that is required to stop the balls from colliding (passing through eachother)"
   ]
  },
  {
   "cell_type": "markdown",
   "metadata": {},
   "source": [
    "### Summary of the impulse response for two colliding bodies"
   ]
  },
  {
   "cell_type": "markdown",
   "metadata": {},
   "source": [
    "![](https://i.ibb.co/PrGkk2z/Screenshot-from-2019-04-08-14-26-01.png)"
   ]
  },
  {
   "cell_type": "markdown",
   "metadata": {},
   "source": [
    "### Impulse Response with fixed particles"
   ]
  },
  {
   "cell_type": "markdown",
   "metadata": {},
   "source": [
    "- When a moving object collides with a fixed particle with comparitively infinite mass (e.g. a wall), the velocity of the fixed particle does not change"
   ]
  }
 ],
 "metadata": {
  "kernelspec": {
   "display_name": "asheesh",
   "language": "python",
   "name": "asheesh"
  },
  "language_info": {
   "codemirror_mode": {
    "name": "ipython",
    "version": 3
   },
   "file_extension": ".py",
   "mimetype": "text/x-python",
   "name": "python",
   "nbconvert_exporter": "python",
   "pygments_lexer": "ipython3",
   "version": "3.6.7"
  }
 },
 "nbformat": 4,
 "nbformat_minor": 2
}
