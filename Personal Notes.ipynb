{
 "cells": [
  {
   "cell_type": "markdown",
   "metadata": {},
   "source": [
    "**Dashpot** (Damper)\n",
    "    - Dissipating Spring Force\n",
    "    - Damping or loss of energy over time\n",
    "    - e.g. : air drag, mechanical damping, etc\n",
    "    - Applies when there is a relative velocity between the particles in a spring system\n",
    "\n",
    "![](https://i.ibb.co/2j72q9L/Screenshot-from-2019-03-08-16-55-11.png)"
   ]
  },
  {
   "cell_type": "code",
   "execution_count": null,
   "metadata": {},
   "outputs": [],
   "source": []
  },
  {
   "cell_type": "markdown",
   "metadata": {},
   "source": [
    "**Explicit vs Implicit Euler**\n",
    "\n",
    "**Explicit**\n",
    "    - The next position completely depends on the parameters of the current timestep\n",
    "    - Can be problematic if the time step is taken large\n",
    "        - The system can blow up as the current state may change drastically at a large timestep\n",
    "        \n",
    "**Implicit**\n",
    "    - It depends on the parameters that are evaluated at the end of the timestep instead of the beginning\n",
    "    - x = f(x)\n",
    "        - Unknown is the function of its own (as it depends on its own value)\n",
    "    - **Newton's Method** (A quadratic convergence method)\n",
    "    \n",
    "\n",
    "**Newton's method**\n",
    "- For linear approximation, we use Taylor's function\n",
    "- Disadv:\n",
    "    - Can never converge if we start with a random guess that is too far from the original root\n",
    "\n",
    "![](https://i.ibb.co/0D1DjC0/Screenshot-from-2019-03-11-17-44-52.png)\n",
    "![](https://i.ibb.co/5K4m7xX/Screenshot-from-2019-03-11-17-53-02.png)"
   ]
  },
  {
   "cell_type": "markdown",
   "metadata": {},
   "source": []
  },
  {
   "cell_type": "markdown",
   "metadata": {},
   "source": [
    "## Implicit Euler\n",
    "\n",
    "- Can handle changes for large timesteps and maintain the system to be stable\n",
    "- Costlier than explicit euler at each timestep, but is often found to be productive\n",
    "\n",
    "- Position, velocity and state when applying Implicit Euler:\n",
    "\n",
    "![](https://i.ibb.co/qrSZSKX/Screenshot-from-2019-03-26-16-40-53.png)"
   ]
  }
 ],
 "metadata": {
  "kernelspec": {
   "display_name": "asheesh",
   "language": "python",
   "name": "asheesh"
  },
  "language_info": {
   "codemirror_mode": {
    "name": "ipython",
    "version": 3
   },
   "file_extension": ".py",
   "mimetype": "text/x-python",
   "name": "python",
   "nbconvert_exporter": "python",
   "pygments_lexer": "ipython3",
   "version": "3.6.7"
  }
 },
 "nbformat": 4,
 "nbformat_minor": 2
}
